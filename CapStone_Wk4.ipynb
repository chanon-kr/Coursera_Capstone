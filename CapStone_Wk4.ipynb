{
 "cells": [
  {
   "cell_type": "markdown",
   "metadata": {},
   "source": [
    "# The Battle of Neighborhoods : Part 1"
   ]
  },
  {
   "cell_type": "markdown",
   "metadata": {},
   "source": [
    "## Part 1.1 : Problem and Background"
   ]
  },
  {
   "cell_type": "markdown",
   "metadata": {},
   "source": [
    "## Background\n",
    "\n",
    "Singapore is the place with many landscape, USS, Singapore flyer etc.  \n",
    "But sometime traveller like myself have a problems with things to do in Singapore (SG for short)."
   ]
  },
  {
   "cell_type": "markdown",
   "metadata": {},
   "source": [
    "Normally, when people travel to SG, they usually travel by MRT.  \n",
    "  \n",
    "So, the project is for backpacked travellers who travel with MRT.  \n",
    "The ML will recommend which MRT station they should visit based on the preference they have at the moment.\n",
    "\n",
    "  \n",
    "**ML model will receive travellers' current location and their preference.  \n",
    "Then ML model will recommend which station they should visit.**"
   ]
  },
  {
   "cell_type": "markdown",
   "metadata": {},
   "source": [
    "## Part 1.2 : Data and How it will be used"
   ]
  },
  {
   "cell_type": "markdown",
   "metadata": {},
   "source": [
    "Using Data of Singapore's MRT location from Kaggle  \n",
    "  from this link : https://www.kaggle.com/yxlee245/singapore-train-station-coordinates#mrt_lrt_data.csv  \n",
    "   \n",
    "Using Data of place around Singapore's MRT from Foursquare API  \n",
    " 1. Name of the place\n",
    " 2. Lat/Long of the place\n",
    " 3. Type of the place\n",
    " 3. Which MRT nearby\n",
    " \n",
    "  \n",
    "The Data import method will be shown as below ;"
   ]
  },
  {
   "cell_type": "code",
   "execution_count": 1,
   "metadata": {},
   "outputs": [],
   "source": [
    "import pandas as pd\n",
    "import json, requests"
   ]
  },
  {
   "cell_type": "markdown",
   "metadata": {},
   "source": [
    "### Load station's lat long"
   ]
  },
  {
   "cell_type": "code",
   "execution_count": 2,
   "metadata": {},
   "outputs": [
    {
     "data": {
      "text/html": [
       "<div>\n",
       "<style scoped>\n",
       "    .dataframe tbody tr th:only-of-type {\n",
       "        vertical-align: middle;\n",
       "    }\n",
       "\n",
       "    .dataframe tbody tr th {\n",
       "        vertical-align: top;\n",
       "    }\n",
       "\n",
       "    .dataframe thead th {\n",
       "        text-align: right;\n",
       "    }\n",
       "</style>\n",
       "<table border=\"1\" class=\"dataframe\">\n",
       "  <thead>\n",
       "    <tr style=\"text-align: right;\">\n",
       "      <th></th>\n",
       "      <th>station_name</th>\n",
       "      <th>type</th>\n",
       "      <th>lat</th>\n",
       "      <th>lng</th>\n",
       "    </tr>\n",
       "  </thead>\n",
       "  <tbody>\n",
       "    <tr>\n",
       "      <th>0</th>\n",
       "      <td>Jurong East</td>\n",
       "      <td>MRT</td>\n",
       "      <td>1.333207</td>\n",
       "      <td>103.742308</td>\n",
       "    </tr>\n",
       "    <tr>\n",
       "      <th>1</th>\n",
       "      <td>Bukit Batok</td>\n",
       "      <td>MRT</td>\n",
       "      <td>1.349069</td>\n",
       "      <td>103.749596</td>\n",
       "    </tr>\n",
       "    <tr>\n",
       "      <th>2</th>\n",
       "      <td>Bukit Gombak</td>\n",
       "      <td>MRT</td>\n",
       "      <td>1.359043</td>\n",
       "      <td>103.751863</td>\n",
       "    </tr>\n",
       "    <tr>\n",
       "      <th>3</th>\n",
       "      <td>Choa Chu Kang</td>\n",
       "      <td>MRT</td>\n",
       "      <td>1.385417</td>\n",
       "      <td>103.744316</td>\n",
       "    </tr>\n",
       "    <tr>\n",
       "      <th>4</th>\n",
       "      <td>Yew Tee</td>\n",
       "      <td>MRT</td>\n",
       "      <td>1.397383</td>\n",
       "      <td>103.747523</td>\n",
       "    </tr>\n",
       "  </tbody>\n",
       "</table>\n",
       "</div>"
      ],
      "text/plain": [
       "    station_name type       lat         lng\n",
       "0    Jurong East  MRT  1.333207  103.742308\n",
       "1    Bukit Batok  MRT  1.349069  103.749596\n",
       "2   Bukit Gombak  MRT  1.359043  103.751863\n",
       "3  Choa Chu Kang  MRT  1.385417  103.744316\n",
       "4        Yew Tee  MRT  1.397383  103.747523"
      ]
     },
     "execution_count": 2,
     "metadata": {},
     "output_type": "execute_result"
    }
   ],
   "source": [
    "mrt_location = pd.read_csv('https://storage.googleapis.com/kagglesdsdata/datasets/287088/590207/mrt_lrt_data.csv?GoogleAccessId=web-data@kaggle-161607.iam.gserviceaccount.com&Expires=1588937460&Signature=B75s9E01PhnGWNO73yUY8bDuYKr15gYSXobk9sfvCNDWMrqKXc1ZLxBK8Xn4DBcs1znG63oCGMedAFz9nnxo6MKjQDh6TXnRmF8VFFlNh2RFN5x3KqX5AfQAiWk9rnBK80p4Q9sFRzouYMDhN7iHKGtsn6oZAmtD66u8ceIwESss%2FmV0xp69EyLXtaTQC3mSlC4iPcC4Q%2FUq2AY59PSHrOUHWX3TpQyupPiwXdO63ONwjVUZH3KcTxVoKJbmyoNuz2%2FpSIbQ4A4JMvbPHouZF6Z%2BCx%2FNbaW%2BBHhiurq1zemczU6%2FZ8ILFIKdK46w%2FKHaroMLHyZE7YfO1uBCaBCShg%3D%3D&response-content-disposition=attachment%3B+filename%3Dmrt_lrt_data.csv')\n",
    "mrt_location.head()"
   ]
  },
  {
   "cell_type": "code",
   "execution_count": 3,
   "metadata": {},
   "outputs": [
    {
     "data": {
      "text/plain": [
       "(157, 4)"
      ]
     },
     "execution_count": 3,
     "metadata": {},
     "output_type": "execute_result"
    }
   ],
   "source": [
    "mrt_location.shape"
   ]
  },
  {
   "cell_type": "code",
   "execution_count": 4,
   "metadata": {},
   "outputs": [
    {
     "data": {
      "text/html": [
       "<div>\n",
       "<style scoped>\n",
       "    .dataframe tbody tr th:only-of-type {\n",
       "        vertical-align: middle;\n",
       "    }\n",
       "\n",
       "    .dataframe tbody tr th {\n",
       "        vertical-align: top;\n",
       "    }\n",
       "\n",
       "    .dataframe thead th {\n",
       "        text-align: right;\n",
       "    }\n",
       "</style>\n",
       "<table border=\"1\" class=\"dataframe\">\n",
       "  <thead>\n",
       "    <tr style=\"text-align: right;\">\n",
       "      <th></th>\n",
       "      <th>station_name</th>\n",
       "      <th>type</th>\n",
       "      <th>lat</th>\n",
       "      <th>lng</th>\n",
       "      <th>latlng</th>\n",
       "    </tr>\n",
       "  </thead>\n",
       "  <tbody>\n",
       "    <tr>\n",
       "      <th>0</th>\n",
       "      <td>Jurong East</td>\n",
       "      <td>MRT</td>\n",
       "      <td>1.333207</td>\n",
       "      <td>103.742308</td>\n",
       "      <td>1.333207,103.742308</td>\n",
       "    </tr>\n",
       "    <tr>\n",
       "      <th>1</th>\n",
       "      <td>Bukit Batok</td>\n",
       "      <td>MRT</td>\n",
       "      <td>1.349069</td>\n",
       "      <td>103.749596</td>\n",
       "      <td>1.349069,103.749596</td>\n",
       "    </tr>\n",
       "    <tr>\n",
       "      <th>2</th>\n",
       "      <td>Bukit Gombak</td>\n",
       "      <td>MRT</td>\n",
       "      <td>1.359043</td>\n",
       "      <td>103.751863</td>\n",
       "      <td>1.359043,103.751863</td>\n",
       "    </tr>\n",
       "    <tr>\n",
       "      <th>3</th>\n",
       "      <td>Choa Chu Kang</td>\n",
       "      <td>MRT</td>\n",
       "      <td>1.385417</td>\n",
       "      <td>103.744316</td>\n",
       "      <td>1.385417,103.744316</td>\n",
       "    </tr>\n",
       "    <tr>\n",
       "      <th>4</th>\n",
       "      <td>Yew Tee</td>\n",
       "      <td>MRT</td>\n",
       "      <td>1.397383</td>\n",
       "      <td>103.747523</td>\n",
       "      <td>1.397383,103.747523</td>\n",
       "    </tr>\n",
       "  </tbody>\n",
       "</table>\n",
       "</div>"
      ],
      "text/plain": [
       "    station_name type       lat         lng               latlng\n",
       "0    Jurong East  MRT  1.333207  103.742308  1.333207,103.742308\n",
       "1    Bukit Batok  MRT  1.349069  103.749596  1.349069,103.749596\n",
       "2   Bukit Gombak  MRT  1.359043  103.751863  1.359043,103.751863\n",
       "3  Choa Chu Kang  MRT  1.385417  103.744316  1.385417,103.744316\n",
       "4        Yew Tee  MRT  1.397383  103.747523  1.397383,103.747523"
      ]
     },
     "execution_count": 4,
     "metadata": {},
     "output_type": "execute_result"
    }
   ],
   "source": [
    "mrt_location['latlng'] = mrt_location['lat'].astype('str')+','+mrt_location['lng'].astype('str')\n",
    "mrt_location.head()"
   ]
  },
  {
   "cell_type": "markdown",
   "metadata": {},
   "source": [
    "### Make a function to collect foursquare API"
   ]
  },
  {
   "cell_type": "code",
   "execution_count": 5,
   "metadata": {},
   "outputs": [],
   "source": [
    "def get_4square(latlong_in):\n",
    "    url = 'https://api.foursquare.com/v2/venues/explore'\n",
    "    params = dict(\n",
    "    client_id='', #<< I remove\n",
    "    client_secret='', #<< I remove\n",
    "    v='20200101',\n",
    "    ll=latlong_in,\n",
    "    radius = 750#,\n",
    "    #query='coffee',\n",
    "    #limit=100\n",
    "    )\n",
    "    resp_in = requests.get(url=url, params=params)\n",
    "    #data = json.loads(resp.text)\n",
    "    df_before_loop = pd.DataFrame()\n",
    "    for i_in_l in resp_in.json()['response']['groups'][0]['items'] :\n",
    "        df_loop = pd.DataFrame({'name':[i_in_l['venue']['name']],\n",
    "                      'lat' : [i_in_l['venue']['location']['lat']],\n",
    "                      'lng' : [i_in_l['venue']['location']['lng']],\n",
    "                      'cat_name' : [i_in_l['venue']['categories'][0]['name']],\n",
    "                      'cat_pluralname':[i_in_l['venue']['categories'][0]['pluralName']],\n",
    "                      'cat_shortname' : [i_in_l['venue']['categories'][0]['shortName']]})\n",
    "        df_before_loop = df_before_loop.append(df_loop)\n",
    "    return df_before_loop"
   ]
  },
  {
   "cell_type": "markdown",
   "metadata": {},
   "source": [
    "### Loop to collect Data around every stations"
   ]
  },
  {
   "cell_type": "code",
   "execution_count": 6,
   "metadata": {
    "scrolled": false
   },
   "outputs": [
    {
     "name": "stdout",
     "output_type": "stream",
     "text": [
      "Running 0 %\n",
      "Running 1 %\n",
      "Running 1 %\n",
      "Running 2 %\n",
      "Running 3 %\n",
      "Running 3 %\n",
      "Running 4 %\n",
      "Running 4 %\n",
      "Running 5 %\n",
      "Running 6 %\n",
      "Running 6 %\n",
      "Running 7 %\n",
      "Running 8 %\n",
      "Running 8 %\n",
      "Running 9 %\n",
      "Running 10 %\n",
      "Running 10 %\n",
      "Running 11 %\n",
      "Running 12 %\n",
      "Running 12 %\n",
      "Running 13 %\n",
      "Running 13 %\n",
      "Running 14 %\n",
      "Running 15 %\n",
      "Running 15 %\n",
      "Running 16 %\n",
      "Running 17 %\n",
      "Running 17 %\n",
      "Running 18 %\n",
      "Running 19 %\n",
      "Running 19 %\n",
      "Running 20 %\n",
      "Running 21 %\n",
      "Running 21 %\n",
      "Running 22 %\n",
      "Running 22 %\n",
      "Running 23 %\n",
      "Running 24 %\n",
      "Running 24 %\n",
      "Running 25 %\n",
      "Running 26 %\n",
      "Running 26 %\n",
      "Running 27 %\n",
      "Running 28 %\n",
      "Running 28 %\n",
      "Running 28 %\n",
      "Running 28 %\n",
      "Running 30 %\n",
      "Running 31 %\n",
      "Running 31 %\n",
      "Running 32 %\n",
      "Running 33 %\n",
      "Running 33 %\n",
      "Running 34 %\n",
      "Running 35 %\n",
      "Running 35 %\n",
      "Running 36 %\n",
      "Running 37 %\n",
      "Running 37 %\n",
      "Running 38 %\n",
      "Running 38 %\n",
      "Running 39 %\n",
      "Running 40 %\n",
      "Running 40 %\n",
      "Running 41 %\n",
      "Running 42 %\n",
      "Running 42 %\n",
      "Running 43 %\n",
      "Running 44 %\n",
      "Running 44 %\n",
      "Running 45 %\n",
      "Running 46 %\n",
      "Running 46 %\n",
      "Running 47 %\n",
      "Running 47 %\n",
      "Running 48 %\n",
      "Running 49 %\n",
      "Running 49 %\n",
      "Running 50 %\n",
      "Running 51 %\n",
      "Running 51 %\n",
      "Running 52 %\n",
      "Running 53 %\n",
      "Running 53 %\n",
      "Running 54 %\n",
      "Running 54 %\n",
      "Running 55 %\n",
      "Running 56 %\n",
      "Running 56 %\n",
      "Running 56 %\n",
      "Running 57 %\n",
      "Running 57 %\n",
      "Running 59 %\n",
      "Running 60 %\n",
      "Running 60 %\n",
      "Running 61 %\n",
      "Running 62 %\n",
      "Running 62 %\n",
      "Running 63 %\n",
      "Running 63 %\n",
      "Running 64 %\n",
      "Running 65 %\n",
      "Running 65 %\n",
      "Running 66 %\n",
      "Running 67 %\n",
      "Running 67 %\n",
      "Running 68 %\n",
      "Running 69 %\n",
      "Running 69 %\n",
      "Running 70 %\n",
      "Running 71 %\n",
      "Running 71 %\n",
      "Running 72 %\n",
      "Running 72 %\n",
      "Running 73 %\n",
      "Running 74 %\n",
      "Running 74 %\n",
      "Running 75 %\n",
      "Running 76 %\n",
      "Running 76 %\n",
      "Running 77 %\n",
      "Running 78 %\n",
      "Running 78 %\n",
      "Running 79 %\n",
      "Running 79 %\n",
      "Running 80 %\n",
      "Running 81 %\n",
      "Running 81 %\n",
      "Running 82 %\n",
      "Running 83 %\n",
      "Running 83 %\n",
      "Running 84 %\n",
      "Running 85 %\n",
      "Running 85 %\n",
      "Running 86 %\n",
      "Running 87 %\n",
      "Running 87 %\n",
      "Running 88 %\n",
      "Running 88 %\n",
      "Running 89 %\n",
      "Running 90 %\n",
      "Running 90 %\n",
      "Running 91 %\n",
      "Running 92 %\n",
      "Running 92 %\n",
      "Running 93 %\n",
      "Running 94 %\n",
      "Running 94 %\n",
      "Running 95 %\n",
      "Running 96 %\n",
      "Running 96 %\n",
      "Running 97 %\n",
      "Running 97 %\n",
      "Running 98 %\n",
      "Running 99 %\n",
      "Running 99 %\n",
      "Running 100 %\n"
     ]
    }
   ],
   "source": [
    "df_sum = pd.DataFrame()\n",
    "for i in mrt_location.index :\n",
    "    print('Running',int(round(i/mrt_location.index.max(),2)*100),'%')\n",
    "    df_1p = get_4square(mrt_location.loc[i,'latlng'])\n",
    "    df_1p['station_name'] = mrt_location.loc[i,'station_name']\n",
    "    df_1p['station_type'] = mrt_location.loc[i,'type']\n",
    "    df_1p['station_lat'] = mrt_location.loc[i,'lat']\n",
    "    df_1p['station_lng'] = mrt_location.loc[i,'lng']\n",
    "    df_sum = df_sum.append(df_1p)"
   ]
  },
  {
   "cell_type": "markdown",
   "metadata": {},
   "source": [
    "### Check dataframe"
   ]
  },
  {
   "cell_type": "code",
   "execution_count": 8,
   "metadata": {},
   "outputs": [
    {
     "data": {
      "text/plain": [
       "(4063, 10)"
      ]
     },
     "execution_count": 8,
     "metadata": {},
     "output_type": "execute_result"
    }
   ],
   "source": [
    "df_sum.shape"
   ]
  },
  {
   "cell_type": "code",
   "execution_count": 12,
   "metadata": {},
   "outputs": [
    {
     "data": {
      "text/html": [
       "<div>\n",
       "<style scoped>\n",
       "    .dataframe tbody tr th:only-of-type {\n",
       "        vertical-align: middle;\n",
       "    }\n",
       "\n",
       "    .dataframe tbody tr th {\n",
       "        vertical-align: top;\n",
       "    }\n",
       "\n",
       "    .dataframe thead th {\n",
       "        text-align: right;\n",
       "    }\n",
       "</style>\n",
       "<table border=\"1\" class=\"dataframe\">\n",
       "  <thead>\n",
       "    <tr style=\"text-align: right;\">\n",
       "      <th></th>\n",
       "      <th>name</th>\n",
       "      <th>lat</th>\n",
       "      <th>lng</th>\n",
       "      <th>cat_name</th>\n",
       "      <th>cat_pluralname</th>\n",
       "      <th>cat_shortname</th>\n",
       "      <th>station_name</th>\n",
       "      <th>station_type</th>\n",
       "      <th>station_lat</th>\n",
       "      <th>station_lng</th>\n",
       "    </tr>\n",
       "  </thead>\n",
       "  <tbody>\n",
       "    <tr>\n",
       "      <th>0</th>\n",
       "      <td>UNIQLO</td>\n",
       "      <td>1.333175</td>\n",
       "      <td>103.743160</td>\n",
       "      <td>Clothing Store</td>\n",
       "      <td>Clothing Stores</td>\n",
       "      <td>Apparel</td>\n",
       "      <td>Jurong East</td>\n",
       "      <td>MRT</td>\n",
       "      <td>1.333207</td>\n",
       "      <td>103.742308</td>\n",
       "    </tr>\n",
       "    <tr>\n",
       "      <th>0</th>\n",
       "      <td>MUJI 無印良品</td>\n",
       "      <td>1.333187</td>\n",
       "      <td>103.743064</td>\n",
       "      <td>Furniture / Home Store</td>\n",
       "      <td>Furniture / Home Stores</td>\n",
       "      <td>Furniture / Home</td>\n",
       "      <td>Jurong East</td>\n",
       "      <td>MRT</td>\n",
       "      <td>1.333207</td>\n",
       "      <td>103.742308</td>\n",
       "    </tr>\n",
       "    <tr>\n",
       "      <th>0</th>\n",
       "      <td>Johan Paris</td>\n",
       "      <td>1.334083</td>\n",
       "      <td>103.742384</td>\n",
       "      <td>Bakery</td>\n",
       "      <td>Bakeries</td>\n",
       "      <td>Bakery</td>\n",
       "      <td>Jurong East</td>\n",
       "      <td>MRT</td>\n",
       "      <td>1.333207</td>\n",
       "      <td>103.742308</td>\n",
       "    </tr>\n",
       "    <tr>\n",
       "      <th>0</th>\n",
       "      <td>The Rink</td>\n",
       "      <td>1.333424</td>\n",
       "      <td>103.740345</td>\n",
       "      <td>Skating Rink</td>\n",
       "      <td>Skating Rinks</td>\n",
       "      <td>Skating Rink</td>\n",
       "      <td>Jurong East</td>\n",
       "      <td>MRT</td>\n",
       "      <td>1.333207</td>\n",
       "      <td>103.742308</td>\n",
       "    </tr>\n",
       "    <tr>\n",
       "      <th>0</th>\n",
       "      <td>Song Fa Bak Kut Teh 松發肉骨茶</td>\n",
       "      <td>1.333394</td>\n",
       "      <td>103.743420</td>\n",
       "      <td>Chinese Restaurant</td>\n",
       "      <td>Chinese Restaurants</td>\n",
       "      <td>Chinese</td>\n",
       "      <td>Jurong East</td>\n",
       "      <td>MRT</td>\n",
       "      <td>1.333207</td>\n",
       "      <td>103.742308</td>\n",
       "    </tr>\n",
       "  </tbody>\n",
       "</table>\n",
       "</div>"
      ],
      "text/plain": [
       "                        name       lat         lng                cat_name  \\\n",
       "0                     UNIQLO  1.333175  103.743160          Clothing Store   \n",
       "0                  MUJI 無印良品  1.333187  103.743064  Furniture / Home Store   \n",
       "0                Johan Paris  1.334083  103.742384                  Bakery   \n",
       "0                   The Rink  1.333424  103.740345            Skating Rink   \n",
       "0  Song Fa Bak Kut Teh 松發肉骨茶  1.333394  103.743420      Chinese Restaurant   \n",
       "\n",
       "            cat_pluralname     cat_shortname station_name station_type  \\\n",
       "0          Clothing Stores           Apparel  Jurong East          MRT   \n",
       "0  Furniture / Home Stores  Furniture / Home  Jurong East          MRT   \n",
       "0                 Bakeries            Bakery  Jurong East          MRT   \n",
       "0            Skating Rinks      Skating Rink  Jurong East          MRT   \n",
       "0      Chinese Restaurants           Chinese  Jurong East          MRT   \n",
       "\n",
       "   station_lat  station_lng  \n",
       "0     1.333207   103.742308  \n",
       "0     1.333207   103.742308  \n",
       "0     1.333207   103.742308  \n",
       "0     1.333207   103.742308  \n",
       "0     1.333207   103.742308  "
      ]
     },
     "execution_count": 12,
     "metadata": {},
     "output_type": "execute_result"
    }
   ],
   "source": [
    "df_sum.head()"
   ]
  },
  {
   "cell_type": "markdown",
   "metadata": {},
   "source": [
    "### Save for Local Use"
   ]
  },
  {
   "cell_type": "code",
   "execution_count": 13,
   "metadata": {},
   "outputs": [],
   "source": [
    "df_sum.to_csv('Location_Data_SG.csv',index =False)"
   ]
  }
 ],
 "metadata": {
  "kernelspec": {
   "display_name": "Python 3",
   "language": "python",
   "name": "python3"
  },
  "language_info": {
   "codemirror_mode": {
    "name": "ipython",
    "version": 3
   },
   "file_extension": ".py",
   "mimetype": "text/x-python",
   "name": "python",
   "nbconvert_exporter": "python",
   "pygments_lexer": "ipython3",
   "version": "3.7.3"
  }
 },
 "nbformat": 4,
 "nbformat_minor": 2
}
